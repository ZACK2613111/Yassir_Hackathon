{
 "cells": [
  {
   "cell_type": "code",
   "execution_count": 90,
   "metadata": {
    "_cell_guid": "b1076dfc-b9ad-4769-8c92-a6c4dae69d19",
    "_uuid": "8f2839f25d086af736a60e9eeb907d3b93b6e0e5",
    "execution": {
     "iopub.execute_input": "2024-12-05T23:19:53.249243Z",
     "iopub.status.busy": "2024-12-05T23:19:53.248272Z",
     "iopub.status.idle": "2024-12-05T23:19:53.543394Z",
     "shell.execute_reply": "2024-12-05T23:19:53.541737Z",
     "shell.execute_reply.started": "2024-12-05T23:19:53.249196Z"
    },
    "trusted": true
   },
   "outputs": [],
   "source": [
    "import numpy as np \n",
    "import pandas as pd \n",
    "from afinn import Afinn\n",
    "from langdetect import detect\n",
    "\n",
    "\n"
   ]
  },
  {
   "cell_type": "code",
   "execution_count": 91,
   "metadata": {
    "execution": {
     "iopub.execute_input": "2024-12-05T22:35:53.288005Z",
     "iopub.status.busy": "2024-12-05T22:35:53.287311Z",
     "iopub.status.idle": "2024-12-05T22:35:53.330383Z",
     "shell.execute_reply": "2024-12-05T22:35:53.329063Z",
     "shell.execute_reply.started": "2024-12-05T22:35:53.287947Z"
    },
    "trusted": true
   },
   "outputs": [
    {
     "data": {
      "text/html": [
       "<div>\n",
       "<style scoped>\n",
       "    .dataframe tbody tr th:only-of-type {\n",
       "        vertical-align: middle;\n",
       "    }\n",
       "\n",
       "    .dataframe tbody tr th {\n",
       "        vertical-align: top;\n",
       "    }\n",
       "\n",
       "    .dataframe thead th {\n",
       "        text-align: right;\n",
       "    }\n",
       "</style>\n",
       "<table border=\"1\" class=\"dataframe\">\n",
       "  <thead>\n",
       "    <tr style=\"text-align: right;\">\n",
       "      <th></th>\n",
       "      <th>Unnamed: 0</th>\n",
       "      <th>Review_Text</th>\n",
       "      <th>Language</th>\n",
       "      <th>Rating (1-5)</th>\n",
       "      <th>Country</th>\n",
       "      <th>Sentiment</th>\n",
       "      <th>Aspect_Focus</th>\n",
       "    </tr>\n",
       "  </thead>\n",
       "  <tbody>\n",
       "    <tr>\n",
       "      <th>0</th>\n",
       "      <td>0</td>\n",
       "      <td>La livraison a été très rapide et le repas éta...</td>\n",
       "      <td>French</td>\n",
       "      <td>5</td>\n",
       "      <td>Algeria</td>\n",
       "      <td>Positive</td>\n",
       "      <td>Delivery Speed</td>\n",
       "    </tr>\n",
       "    <tr>\n",
       "      <th>1</th>\n",
       "      <td>1</td>\n",
       "      <td>الأكل وصل باردًا ولم يكن طازجًا كما توقعت.</td>\n",
       "      <td>Arabic</td>\n",
       "      <td>2</td>\n",
       "      <td>Algeria</td>\n",
       "      <td>Negative</td>\n",
       "      <td>Food Quality</td>\n",
       "    </tr>\n",
       "    <tr>\n",
       "      <th>2</th>\n",
       "      <td>2</td>\n",
       "      <td>The food was delicious and the delivery was pr...</td>\n",
       "      <td>English</td>\n",
       "      <td>5</td>\n",
       "      <td>Algeria</td>\n",
       "      <td>Positive</td>\n",
       "      <td>Food Quality</td>\n",
       "    </tr>\n",
       "    <tr>\n",
       "      <th>3</th>\n",
       "      <td>3</td>\n",
       "      <td>La plateforme a des problèmes de connexion fré...</td>\n",
       "      <td>French</td>\n",
       "      <td>2</td>\n",
       "      <td>Algeria</td>\n",
       "      <td>Negative</td>\n",
       "      <td>App Usability</td>\n",
       "    </tr>\n",
       "    <tr>\n",
       "      <th>4</th>\n",
       "      <td>4</td>\n",
       "      <td>خدمة التوصيل ممتازة والأسعار مناسبة.</td>\n",
       "      <td>Arabic</td>\n",
       "      <td>5</td>\n",
       "      <td>Algeria</td>\n",
       "      <td>Positive</td>\n",
       "      <td>Pricing</td>\n",
       "    </tr>\n",
       "  </tbody>\n",
       "</table>\n",
       "</div>"
      ],
      "text/plain": [
       "   Unnamed: 0                                        Review_Text Language  \\\n",
       "0           0  La livraison a été très rapide et le repas éta...   French   \n",
       "1           1         الأكل وصل باردًا ولم يكن طازجًا كما توقعت.   Arabic   \n",
       "2           2  The food was delicious and the delivery was pr...  English   \n",
       "3           3  La plateforme a des problèmes de connexion fré...   French   \n",
       "4           4               خدمة التوصيل ممتازة والأسعار مناسبة.   Arabic   \n",
       "\n",
       "  Rating (1-5)  Country Sentiment    Aspect_Focus  \n",
       "0            5  Algeria  Positive  Delivery Speed  \n",
       "1            2  Algeria  Negative    Food Quality  \n",
       "2            5  Algeria  Positive    Food Quality  \n",
       "3            2  Algeria  Negative   App Usability  \n",
       "4            5  Algeria  Positive         Pricing  "
      ]
     },
     "execution_count": 91,
     "metadata": {},
     "output_type": "execute_result"
    }
   ],
   "source": [
    "reviews = pd.read_csv(\"data_reviews.csv\")\n",
    "reviews.head()"
   ]
  },
  {
   "cell_type": "code",
   "execution_count": null,
   "metadata": {},
   "outputs": [],
   "source": []
  },
  {
   "cell_type": "markdown",
   "metadata": {},
   "source": [
    "# Data Exploration "
   ]
  },
  {
   "cell_type": "code",
   "execution_count": 92,
   "metadata": {
    "execution": {
     "iopub.execute_input": "2024-12-05T22:35:53.332086Z",
     "iopub.status.busy": "2024-12-05T22:35:53.331600Z",
     "iopub.status.idle": "2024-12-05T22:35:53.361102Z",
     "shell.execute_reply": "2024-12-05T22:35:53.359781Z",
     "shell.execute_reply.started": "2024-12-05T22:35:53.332009Z"
    },
    "trusted": true
   },
   "outputs": [
    {
     "name": "stdout",
     "output_type": "stream",
     "text": [
      "<class 'pandas.core.frame.DataFrame'>\n",
      "RangeIndex: 1138 entries, 0 to 1137\n",
      "Data columns (total 7 columns):\n",
      " #   Column        Non-Null Count  Dtype \n",
      "---  ------        --------------  ----- \n",
      " 0   Unnamed: 0    1138 non-null   int64 \n",
      " 1   Review_Text   1138 non-null   object\n",
      " 2   Language      1138 non-null   object\n",
      " 3   Rating (1-5)  1138 non-null   object\n",
      " 4   Country       1138 non-null   object\n",
      " 5   Sentiment     1138 non-null   object\n",
      " 6   Aspect_Focus  1138 non-null   object\n",
      "dtypes: int64(1), object(6)\n",
      "memory usage: 62.4+ KB\n"
     ]
    }
   ],
   "source": [
    "reviews.info()"
   ]
  },
  {
   "cell_type": "code",
   "execution_count": 93,
   "metadata": {
    "execution": {
     "iopub.execute_input": "2024-12-05T22:35:53.363904Z",
     "iopub.status.busy": "2024-12-05T22:35:53.363518Z",
     "iopub.status.idle": "2024-12-05T22:35:53.382456Z",
     "shell.execute_reply": "2024-12-05T22:35:53.381226Z",
     "shell.execute_reply.started": "2024-12-05T22:35:53.363866Z"
    },
    "trusted": true
   },
   "outputs": [
    {
     "data": {
      "text/plain": [
       "Unnamed: 0      0\n",
       "Review_Text     0\n",
       "Language        0\n",
       "Rating (1-5)    0\n",
       "Country         0\n",
       "Sentiment       0\n",
       "Aspect_Focus    0\n",
       "dtype: int64"
      ]
     },
     "execution_count": 93,
     "metadata": {},
     "output_type": "execute_result"
    }
   ],
   "source": [
    "reviews.isnull().sum()\n"
   ]
  },
  {
   "cell_type": "markdown",
   "metadata": {},
   "source": [
    "# Countries"
   ]
  },
  {
   "cell_type": "code",
   "execution_count": 94,
   "metadata": {
    "execution": {
     "iopub.execute_input": "2024-12-05T22:35:53.384371Z",
     "iopub.status.busy": "2024-12-05T22:35:53.383916Z",
     "iopub.status.idle": "2024-12-05T22:35:53.400716Z",
     "shell.execute_reply": "2024-12-05T22:35:53.399389Z",
     "shell.execute_reply.started": "2024-12-05T22:35:53.384317Z"
    },
    "trusted": true
   },
   "outputs": [
    {
     "name": "stdout",
     "output_type": "stream",
     "text": [
      "Unique countries: ['Algeria' 'Country']\n"
     ]
    }
   ],
   "source": [
    "countries = reviews['Country'].unique()\n",
    "\n",
    "print(\"Unique countries:\", countries)\n"
   ]
  },
  {
   "cell_type": "code",
   "execution_count": 95,
   "metadata": {
    "execution": {
     "iopub.execute_input": "2024-12-05T22:35:53.402996Z",
     "iopub.status.busy": "2024-12-05T22:35:53.402519Z",
     "iopub.status.idle": "2024-12-05T22:35:53.415222Z",
     "shell.execute_reply": "2024-12-05T22:35:53.413797Z",
     "shell.execute_reply.started": "2024-12-05T22:35:53.402944Z"
    },
    "trusted": true
   },
   "outputs": [
    {
     "data": {
      "text/plain": [
       "Country\n",
       "Algeria    1136\n",
       "Country       2\n",
       "Name: count, dtype: int64"
      ]
     },
     "execution_count": 95,
     "metadata": {},
     "output_type": "execute_result"
    }
   ],
   "source": [
    "reviews['Country'].value_counts()\n"
   ]
  },
  {
   "cell_type": "code",
   "execution_count": null,
   "metadata": {
    "trusted": true
   },
   "outputs": [],
   "source": []
  },
  {
   "cell_type": "code",
   "execution_count": 96,
   "metadata": {
    "execution": {
     "iopub.execute_input": "2024-12-05T22:46:24.538618Z",
     "iopub.status.busy": "2024-12-05T22:46:24.538157Z",
     "iopub.status.idle": "2024-12-05T22:46:24.566241Z",
     "shell.execute_reply": "2024-12-05T22:46:24.564719Z",
     "shell.execute_reply.started": "2024-12-05T22:46:24.538571Z"
    },
    "trusted": true
   },
   "outputs": [
    {
     "name": "stdout",
     "output_type": "stream",
     "text": [
      "Unique aspects: ['Delivery Speed' 'Food Quality' 'App Usability' 'Pricing'\n",
      " 'Order Accuracy' 'Packaging' 'Customer Service' 'Aspect_Focus'\n",
      " 'Burger Quality' 'Food Temperature']\n"
     ]
    }
   ],
   "source": [
    "aspects = reviews['Aspect_Focus'].unique()\n",
    "print(\"Unique aspects:\", aspects)\n"
   ]
  },
  {
   "cell_type": "code",
   "execution_count": 97,
   "metadata": {
    "execution": {
     "iopub.execute_input": "2024-12-05T22:47:00.648476Z",
     "iopub.status.busy": "2024-12-05T22:47:00.647375Z",
     "iopub.status.idle": "2024-12-05T22:47:00.658969Z",
     "shell.execute_reply": "2024-12-05T22:47:00.657650Z",
     "shell.execute_reply.started": "2024-12-05T22:47:00.648393Z"
    },
    "trusted": true
   },
   "outputs": [
    {
     "data": {
      "text/plain": [
       "Aspect_Focus\n",
       "Food Quality        339\n",
       "Delivery Speed      312\n",
       "App Usability       181\n",
       "Pricing              87\n",
       "Packaging            78\n",
       "Order Accuracy       72\n",
       "Customer Service     60\n",
       "Burger Quality        6\n",
       "Aspect_Focus          2\n",
       "Food Temperature      1\n",
       "Name: count, dtype: int64"
      ]
     },
     "execution_count": 97,
     "metadata": {},
     "output_type": "execute_result"
    }
   ],
   "source": [
    "reviews['Aspect_Focus'].value_counts()"
   ]
  },
  {
   "cell_type": "code",
   "execution_count": 98,
   "metadata": {
    "execution": {
     "iopub.execute_input": "2024-12-05T22:35:53.436036Z",
     "iopub.status.busy": "2024-12-05T22:35:53.435583Z",
     "iopub.status.idle": "2024-12-05T22:35:53.459103Z",
     "shell.execute_reply": "2024-12-05T22:35:53.457870Z",
     "shell.execute_reply.started": "2024-12-05T22:35:53.435986Z"
    },
    "trusted": true
   },
   "outputs": [
    {
     "name": "stdout",
     "output_type": "stream",
     "text": [
      "Languages : ['French' 'Arabic' 'English' 'Language']\n"
     ]
    }
   ],
   "source": [
    "language = reviews['Language'].unique()\n",
    "print(\"Languages :\", language)\n"
   ]
  },
  {
   "cell_type": "code",
   "execution_count": 99,
   "metadata": {
    "execution": {
     "iopub.execute_input": "2024-12-05T22:35:53.461147Z",
     "iopub.status.busy": "2024-12-05T22:35:53.460676Z",
     "iopub.status.idle": "2024-12-05T22:35:53.492146Z",
     "shell.execute_reply": "2024-12-05T22:35:53.490858Z",
     "shell.execute_reply.started": "2024-12-05T22:35:53.461093Z"
    },
    "trusted": true
   },
   "outputs": [
    {
     "data": {
      "text/html": [
       "<div>\n",
       "<style scoped>\n",
       "    .dataframe tbody tr th:only-of-type {\n",
       "        vertical-align: middle;\n",
       "    }\n",
       "\n",
       "    .dataframe tbody tr th {\n",
       "        vertical-align: top;\n",
       "    }\n",
       "\n",
       "    .dataframe thead th {\n",
       "        text-align: right;\n",
       "    }\n",
       "</style>\n",
       "<table border=\"1\" class=\"dataframe\">\n",
       "  <thead>\n",
       "    <tr style=\"text-align: right;\">\n",
       "      <th></th>\n",
       "      <th>Unnamed: 0</th>\n",
       "      <th>Review_Text</th>\n",
       "      <th>Language</th>\n",
       "      <th>Rating (1-5)</th>\n",
       "      <th>Country</th>\n",
       "      <th>Sentiment</th>\n",
       "      <th>Aspect_Focus</th>\n",
       "    </tr>\n",
       "  </thead>\n",
       "  <tbody>\n",
       "    <tr>\n",
       "      <th>521</th>\n",
       "      <td>521</td>\n",
       "      <td>Review_Text</td>\n",
       "      <td>Language</td>\n",
       "      <td>Rating (1-5)</td>\n",
       "      <td>Country</td>\n",
       "      <td>Sentiment (Positive/Negative)</td>\n",
       "      <td>Aspect_Focus</td>\n",
       "    </tr>\n",
       "    <tr>\n",
       "      <th>622</th>\n",
       "      <td>622</td>\n",
       "      <td>Review_Text</td>\n",
       "      <td>Language</td>\n",
       "      <td>Rating (1-5)</td>\n",
       "      <td>Country</td>\n",
       "      <td>Sentiment (Positive/Negative)</td>\n",
       "      <td>Aspect_Focus</td>\n",
       "    </tr>\n",
       "  </tbody>\n",
       "</table>\n",
       "</div>"
      ],
      "text/plain": [
       "     Unnamed: 0  Review_Text  Language  Rating (1-5)  Country  \\\n",
       "521         521  Review_Text  Language  Rating (1-5)  Country   \n",
       "622         622  Review_Text  Language  Rating (1-5)  Country   \n",
       "\n",
       "                         Sentiment  Aspect_Focus  \n",
       "521  Sentiment (Positive/Negative)  Aspect_Focus  \n",
       "622  Sentiment (Positive/Negative)  Aspect_Focus  "
      ]
     },
     "execution_count": 99,
     "metadata": {},
     "output_type": "execute_result"
    }
   ],
   "source": [
    "cleaned_data = reviews[~reviews['Language'].isin(['French', 'Arabic', 'English'])]\n",
    "\n",
    "\n",
    "cleaned_data.head()\n"
   ]
  },
  {
   "cell_type": "code",
   "execution_count": 100,
   "metadata": {
    "execution": {
     "iopub.execute_input": "2024-12-05T22:35:53.495887Z",
     "iopub.status.busy": "2024-12-05T22:35:53.495374Z",
     "iopub.status.idle": "2024-12-05T22:35:53.512584Z",
     "shell.execute_reply": "2024-12-05T22:35:53.511231Z",
     "shell.execute_reply.started": "2024-12-05T22:35:53.495836Z"
    },
    "trusted": true
   },
   "outputs": [
    {
     "data": {
      "text/plain": [
       "Language\n",
       "French      392\n",
       "English     377\n",
       "Arabic      367\n",
       "Language      2\n",
       "Name: count, dtype: int64"
      ]
     },
     "execution_count": 100,
     "metadata": {},
     "output_type": "execute_result"
    }
   ],
   "source": [
    "reviews['Language'].value_counts()"
   ]
  },
  {
   "cell_type": "code",
   "execution_count": 101,
   "metadata": {
    "execution": {
     "iopub.execute_input": "2024-12-05T22:45:25.950762Z",
     "iopub.status.busy": "2024-12-05T22:45:25.950329Z",
     "iopub.status.idle": "2024-12-05T22:45:25.959129Z",
     "shell.execute_reply": "2024-12-05T22:45:25.957689Z",
     "shell.execute_reply.started": "2024-12-05T22:45:25.950720Z"
    },
    "trusted": true
   },
   "outputs": [
    {
     "name": "stdout",
     "output_type": "stream",
     "text": [
      "Empty DataFrame\n",
      "Columns: [Unnamed: 0, Review_Text, Language, Rating (1-5), Country, Sentiment, Aspect_Focus]\n",
      "Index: []\n"
     ]
    }
   ],
   "source": [
    "packaging_data = reviews[reviews['Aspect_Focus'] == 'packaging']\n",
    "\n",
    "print(packaging_data)\n"
   ]
  },
  {
   "cell_type": "code",
   "execution_count": null,
   "metadata": {
    "trusted": true
   },
   "outputs": [],
   "source": []
  },
  {
   "cell_type": "markdown",
   "metadata": {},
   "source": [
    "# Restaurant Reviews\n"
   ]
  },
  {
   "cell_type": "code",
   "execution_count": 102,
   "metadata": {
    "execution": {
     "iopub.execute_input": "2024-12-05T22:50:17.021663Z",
     "iopub.status.busy": "2024-12-05T22:50:17.020472Z",
     "iopub.status.idle": "2024-12-05T22:50:17.123134Z",
     "shell.execute_reply": "2024-12-05T22:50:17.121826Z",
     "shell.execute_reply.started": "2024-12-05T22:50:17.021599Z"
    },
    "trusted": true
   },
   "outputs": [],
   "source": [
    "reviews2 = pd.read_csv('restaurant_reviews.csv')"
   ]
  },
  {
   "cell_type": "code",
   "execution_count": 103,
   "metadata": {
    "execution": {
     "iopub.execute_input": "2024-12-05T22:50:23.022233Z",
     "iopub.status.busy": "2024-12-05T22:50:23.021849Z",
     "iopub.status.idle": "2024-12-05T22:50:23.033349Z",
     "shell.execute_reply": "2024-12-05T22:50:23.032201Z",
     "shell.execute_reply.started": "2024-12-05T22:50:23.022198Z"
    },
    "trusted": true
   },
   "outputs": [
    {
     "data": {
      "text/html": [
       "<div>\n",
       "<style scoped>\n",
       "    .dataframe tbody tr th:only-of-type {\n",
       "        vertical-align: middle;\n",
       "    }\n",
       "\n",
       "    .dataframe tbody tr th {\n",
       "        vertical-align: top;\n",
       "    }\n",
       "\n",
       "    .dataframe thead th {\n",
       "        text-align: right;\n",
       "    }\n",
       "</style>\n",
       "<table border=\"1\" class=\"dataframe\">\n",
       "  <thead>\n",
       "    <tr style=\"text-align: right;\">\n",
       "      <th></th>\n",
       "      <th>title</th>\n",
       "      <th>text</th>\n",
       "      <th>stars</th>\n",
       "    </tr>\n",
       "  </thead>\n",
       "  <tbody>\n",
       "    <tr>\n",
       "      <th>0</th>\n",
       "      <td>gAAAAABnUH4NgkTQ9eyZpcZr0JpVZKT2A_-T3BUnPBPZps...</td>\n",
       "      <td>Sauce vipo infecte piquante sans aucun goût ni...</td>\n",
       "      <td>2</td>\n",
       "    </tr>\n",
       "    <tr>\n",
       "      <th>1</th>\n",
       "      <td>gAAAAABnUH4NyGLVcUk0aT-6YySNpN-Atb905EoDedSWV2...</td>\n",
       "      <td>La cuisine est médiocre, la sauce Vipo est san...</td>\n",
       "      <td>1</td>\n",
       "    </tr>\n",
       "    <tr>\n",
       "      <th>2</th>\n",
       "      <td>gAAAAABnUH4NDFwRDSycnVfF_qiCYlFhB60ebSobqCmoWh...</td>\n",
       "      <td>الاجواء و الاضاءة روعة\\n النظافة في القمة\\n ال...</td>\n",
       "      <td>5</td>\n",
       "    </tr>\n",
       "    <tr>\n",
       "      <th>3</th>\n",
       "      <td>gAAAAABnUH4NRqzylGPMu-ODANAHON7KKDiz4uJhnHJUfQ...</td>\n",
       "      <td>J'ai vraiment aimé cette place, le service est...</td>\n",
       "      <td>4</td>\n",
       "    </tr>\n",
       "    <tr>\n",
       "      <th>4</th>\n",
       "      <td>gAAAAABnUH4NiAgbqy6d_5sxsXSJ5Ly_TOLP2DMYqka9_4...</td>\n",
       "      <td>Cozy place, good burgers for the price u pay, ...</td>\n",
       "      <td>4</td>\n",
       "    </tr>\n",
       "  </tbody>\n",
       "</table>\n",
       "</div>"
      ],
      "text/plain": [
       "                                               title  \\\n",
       "0  gAAAAABnUH4NgkTQ9eyZpcZr0JpVZKT2A_-T3BUnPBPZps...   \n",
       "1  gAAAAABnUH4NyGLVcUk0aT-6YySNpN-Atb905EoDedSWV2...   \n",
       "2  gAAAAABnUH4NDFwRDSycnVfF_qiCYlFhB60ebSobqCmoWh...   \n",
       "3  gAAAAABnUH4NRqzylGPMu-ODANAHON7KKDiz4uJhnHJUfQ...   \n",
       "4  gAAAAABnUH4NiAgbqy6d_5sxsXSJ5Ly_TOLP2DMYqka9_4...   \n",
       "\n",
       "                                                text  stars  \n",
       "0  Sauce vipo infecte piquante sans aucun goût ni...      2  \n",
       "1  La cuisine est médiocre, la sauce Vipo est san...      1  \n",
       "2  الاجواء و الاضاءة روعة\\n النظافة في القمة\\n ال...      5  \n",
       "3  J'ai vraiment aimé cette place, le service est...      4  \n",
       "4  Cozy place, good burgers for the price u pay, ...      4  "
      ]
     },
     "execution_count": 103,
     "metadata": {},
     "output_type": "execute_result"
    }
   ],
   "source": [
    "reviews2.head()"
   ]
  },
  {
   "cell_type": "code",
   "execution_count": 104,
   "metadata": {
    "execution": {
     "iopub.execute_input": "2024-12-05T22:55:04.269619Z",
     "iopub.status.busy": "2024-12-05T22:55:04.268952Z",
     "iopub.status.idle": "2024-12-05T22:55:04.290216Z",
     "shell.execute_reply": "2024-12-05T22:55:04.288987Z",
     "shell.execute_reply.started": "2024-12-05T22:55:04.269570Z"
    },
    "trusted": true
   },
   "outputs": [
    {
     "data": {
      "text/html": [
       "<div>\n",
       "<style scoped>\n",
       "    .dataframe tbody tr th:only-of-type {\n",
       "        vertical-align: middle;\n",
       "    }\n",
       "\n",
       "    .dataframe tbody tr th {\n",
       "        vertical-align: top;\n",
       "    }\n",
       "\n",
       "    .dataframe thead th {\n",
       "        text-align: right;\n",
       "    }\n",
       "</style>\n",
       "<table border=\"1\" class=\"dataframe\">\n",
       "  <thead>\n",
       "    <tr style=\"text-align: right;\">\n",
       "      <th></th>\n",
       "      <th>text</th>\n",
       "      <th>stars</th>\n",
       "      <th>review_sentiment</th>\n",
       "    </tr>\n",
       "  </thead>\n",
       "  <tbody>\n",
       "    <tr>\n",
       "      <th>0</th>\n",
       "      <td>Sauce vipo infecte piquante sans aucun goût ni...</td>\n",
       "      <td>2</td>\n",
       "      <td>negative</td>\n",
       "    </tr>\n",
       "    <tr>\n",
       "      <th>1</th>\n",
       "      <td>La cuisine est médiocre, la sauce Vipo est san...</td>\n",
       "      <td>1</td>\n",
       "      <td>negative</td>\n",
       "    </tr>\n",
       "    <tr>\n",
       "      <th>2</th>\n",
       "      <td>الاجواء و الاضاءة روعة\\n النظافة في القمة\\n ال...</td>\n",
       "      <td>5</td>\n",
       "      <td>positive</td>\n",
       "    </tr>\n",
       "    <tr>\n",
       "      <th>3</th>\n",
       "      <td>J'ai vraiment aimé cette place, le service est...</td>\n",
       "      <td>4</td>\n",
       "      <td>positive</td>\n",
       "    </tr>\n",
       "    <tr>\n",
       "      <th>4</th>\n",
       "      <td>Cozy place, good burgers for the price u pay, ...</td>\n",
       "      <td>4</td>\n",
       "      <td>positive</td>\n",
       "    </tr>\n",
       "  </tbody>\n",
       "</table>\n",
       "</div>"
      ],
      "text/plain": [
       "                                                text  stars review_sentiment\n",
       "0  Sauce vipo infecte piquante sans aucun goût ni...      2         negative\n",
       "1  La cuisine est médiocre, la sauce Vipo est san...      1         negative\n",
       "2  الاجواء و الاضاءة روعة\\n النظافة في القمة\\n ال...      5         positive\n",
       "3  J'ai vraiment aimé cette place, le service est...      4         positive\n",
       "4  Cozy place, good burgers for the price u pay, ...      4         positive"
      ]
     },
     "execution_count": 104,
     "metadata": {},
     "output_type": "execute_result"
    }
   ],
   "source": [
    "reviews2['review_sentiment'] = reviews2['stars'].apply(lambda x: 'negative' if x < 3 else 'positive')\n",
    "reviews2 = reviews2.drop(columns=['title'])\n",
    "reviews2.head()\n",
    "\n"
   ]
  },
  {
   "cell_type": "code",
   "execution_count": 105,
   "metadata": {},
   "outputs": [],
   "source": [
    "afinn = Afinn()"
   ]
  },
  {
   "cell_type": "code",
   "execution_count": 106,
   "metadata": {},
   "outputs": [],
   "source": [
    "# Multilingual lexicons for specific issues\n",
    "bad_words = ['bad', 'terrible', 'awful', 'horrible', 'worse', 'mauvais', 'horrible', 'فضيع', 'سيء']\n",
    "sexualization_keywords = [\n",
    "    'sexual', 'inappropriate', 'harassment', 'sexuel', 'inapproprié', 'تحرش', 'غير لائق'\n",
    "]\n",
    "security_keywords = [\n",
    "    'robbery', 'stolen', 'violence', 'attack', 'scam', 'fraud', \n",
    "    'vol', 'violence', 'attaque', 'escroquerie', 'سرقة', 'عنف', 'هجوم', 'احتيال'\n",
    "]\n",
    "extreme_keywords = bad_words + sexualization_keywords + security_keywords"
   ]
  },
  {
   "cell_type": "code",
   "execution_count": 107,
   "metadata": {},
   "outputs": [],
   "source": [
    "# Function to detect language and process text\n",
    "def preprocess_text(review):\n",
    "    try:\n",
    "        lang = detect(review)\n",
    "    except:\n",
    "        lang = \"unknown\"  # Handle cases where language detection fails\n",
    "    return review.lower(), lang"
   ]
  },
  {
   "cell_type": "code",
   "execution_count": 108,
   "metadata": {},
   "outputs": [],
   "source": [
    "def calculate_gravity_with_afinn(review):\n",
    "    review_lower, lang = preprocess_text(review)\n",
    "    \n",
    "    gravity = 0 \n",
    "    \n",
    "    for keyword in extreme_keywords:\n",
    "        if keyword in review_lower:\n",
    "            gravity += 1  \n",
    "    # Calculate AFINN sentiment score (only for English reviews)\n",
    "    sentiment_score = 0\n",
    "    if lang == 'en':\n",
    "        sentiment_score = afinn.score(review)\n",
    "    \n",
    "    # Adjust gravity based on sentiment score\n",
    "    if sentiment_score < -3:  # Strongly negative\n",
    "        gravity += 2\n",
    "    elif sentiment_score < 0:  # Mildly negative\n",
    "        gravity += 1\n",
    "    \n",
    "    return gravity, lang"
   ]
  },
  {
   "cell_type": "code",
   "execution_count": 109,
   "metadata": {},
   "outputs": [],
   "source": [
    "reviews2['text'] = reviews2['text'].astype(str).fillna('')"
   ]
  },
  {
   "cell_type": "code",
   "execution_count": 110,
   "metadata": {},
   "outputs": [],
   "source": [
    "reviews2[['gravity', 'language']] = reviews2['text'].apply(\n",
    "    lambda review: pd.Series(calculate_gravity_with_afinn(review))\n",
    ")\n"
   ]
  },
  {
   "cell_type": "code",
   "execution_count": 111,
   "metadata": {},
   "outputs": [
    {
     "data": {
      "text/html": [
       "<div>\n",
       "<style scoped>\n",
       "    .dataframe tbody tr th:only-of-type {\n",
       "        vertical-align: middle;\n",
       "    }\n",
       "\n",
       "    .dataframe tbody tr th {\n",
       "        vertical-align: top;\n",
       "    }\n",
       "\n",
       "    .dataframe thead th {\n",
       "        text-align: right;\n",
       "    }\n",
       "</style>\n",
       "<table border=\"1\" class=\"dataframe\">\n",
       "  <thead>\n",
       "    <tr style=\"text-align: right;\">\n",
       "      <th></th>\n",
       "      <th>text</th>\n",
       "      <th>stars</th>\n",
       "      <th>review_sentiment</th>\n",
       "      <th>gravity</th>\n",
       "      <th>language</th>\n",
       "    </tr>\n",
       "  </thead>\n",
       "  <tbody>\n",
       "    <tr>\n",
       "      <th>0</th>\n",
       "      <td>Sauce vipo infecte piquante sans aucun goût ni...</td>\n",
       "      <td>2</td>\n",
       "      <td>negative</td>\n",
       "      <td>0</td>\n",
       "      <td>fr</td>\n",
       "    </tr>\n",
       "    <tr>\n",
       "      <th>1</th>\n",
       "      <td>La cuisine est médiocre, la sauce Vipo est san...</td>\n",
       "      <td>1</td>\n",
       "      <td>negative</td>\n",
       "      <td>0</td>\n",
       "      <td>fr</td>\n",
       "    </tr>\n",
       "    <tr>\n",
       "      <th>2</th>\n",
       "      <td>الاجواء و الاضاءة روعة\\n النظافة في القمة\\n ال...</td>\n",
       "      <td>5</td>\n",
       "      <td>positive</td>\n",
       "      <td>0</td>\n",
       "      <td>ar</td>\n",
       "    </tr>\n",
       "    <tr>\n",
       "      <th>3</th>\n",
       "      <td>J'ai vraiment aimé cette place, le service est...</td>\n",
       "      <td>4</td>\n",
       "      <td>positive</td>\n",
       "      <td>0</td>\n",
       "      <td>fr</td>\n",
       "    </tr>\n",
       "    <tr>\n",
       "      <th>4</th>\n",
       "      <td>Cozy place, good burgers for the price u pay, ...</td>\n",
       "      <td>4</td>\n",
       "      <td>positive</td>\n",
       "      <td>0</td>\n",
       "      <td>en</td>\n",
       "    </tr>\n",
       "  </tbody>\n",
       "</table>\n",
       "</div>"
      ],
      "text/plain": [
       "                                                text  stars review_sentiment  \\\n",
       "0  Sauce vipo infecte piquante sans aucun goût ni...      2         negative   \n",
       "1  La cuisine est médiocre, la sauce Vipo est san...      1         negative   \n",
       "2  الاجواء و الاضاءة روعة\\n النظافة في القمة\\n ال...      5         positive   \n",
       "3  J'ai vraiment aimé cette place, le service est...      4         positive   \n",
       "4  Cozy place, good burgers for the price u pay, ...      4         positive   \n",
       "\n",
       "   gravity language  \n",
       "0        0       fr  \n",
       "1        0       fr  \n",
       "2        0       ar  \n",
       "3        0       fr  \n",
       "4        0       en  "
      ]
     },
     "execution_count": 111,
     "metadata": {},
     "output_type": "execute_result"
    }
   ],
   "source": [
    "reviews2.head()"
   ]
  },
  {
   "cell_type": "code",
   "execution_count": 112,
   "metadata": {},
   "outputs": [
    {
     "data": {
      "text/plain": [
       "array([0, 2, 1, 3, 5, 4])"
      ]
     },
     "execution_count": 112,
     "metadata": {},
     "output_type": "execute_result"
    }
   ],
   "source": [
    "reviews2['gravity'].unique()"
   ]
  },
  {
   "cell_type": "code",
   "execution_count": 113,
   "metadata": {},
   "outputs": [
    {
     "data": {
      "text/plain": [
       "gravity\n",
       "0    8198\n",
       "1     339\n",
       "2      84\n",
       "3      24\n",
       "4       7\n",
       "5       2\n",
       "Name: count, dtype: int64"
      ]
     },
     "execution_count": 113,
     "metadata": {},
     "output_type": "execute_result"
    }
   ],
   "source": [
    "reviews2['gravity'].value_counts()"
   ]
  },
  {
   "cell_type": "code",
   "execution_count": 114,
   "metadata": {},
   "outputs": [
    {
     "data": {
      "text/plain": [
       "0       0\n",
       "1       0\n",
       "2       0\n",
       "3       0\n",
       "4       0\n",
       "       ..\n",
       "8649    0\n",
       "8650    0\n",
       "8651    0\n",
       "8652    0\n",
       "8653    0\n",
       "Name: gravity, Length: 8654, dtype: int64"
      ]
     },
     "execution_count": 114,
     "metadata": {},
     "output_type": "execute_result"
    }
   ],
   "source": [
    "reviews2['gravity']"
   ]
  },
  {
   "cell_type": "code",
   "execution_count": 115,
   "metadata": {},
   "outputs": [
    {
     "data": {
      "text/plain": [
       "array(['fr', 'ar', 'en', 'it', 'tr', 'unknown', 'tl', 'fi', 'so', 'da',\n",
       "       'ro', 'sw', 'lt', 'fa', 'cy', 'id', 'nl', 'es', 'ca', 'hu', 'sk',\n",
       "       'de', 'pt', 'et', 'no', 'sl', 'af', 'vi', 'ur', 'lv', 'hr', 'cs',\n",
       "       'pl', 'ru', 'sv', 'zh-cn', 'ko', 'sq'], dtype=object)"
      ]
     },
     "execution_count": 115,
     "metadata": {},
     "output_type": "execute_result"
    }
   ],
   "source": [
    "reviews2['language'].unique()"
   ]
  },
  {
   "cell_type": "code",
   "execution_count": 116,
   "metadata": {},
   "outputs": [],
   "source": [
    "high_gravity_reviews = reviews2[reviews2['gravity'].isin([4, 5])]"
   ]
  },
  {
   "cell_type": "code",
   "execution_count": 117,
   "metadata": {},
   "outputs": [
    {
     "data": {
      "text/html": [
       "<div>\n",
       "<style scoped>\n",
       "    .dataframe tbody tr th:only-of-type {\n",
       "        vertical-align: middle;\n",
       "    }\n",
       "\n",
       "    .dataframe tbody tr th {\n",
       "        vertical-align: top;\n",
       "    }\n",
       "\n",
       "    .dataframe thead th {\n",
       "        text-align: right;\n",
       "    }\n",
       "</style>\n",
       "<table border=\"1\" class=\"dataframe\">\n",
       "  <thead>\n",
       "    <tr style=\"text-align: right;\">\n",
       "      <th></th>\n",
       "      <th>text</th>\n",
       "      <th>stars</th>\n",
       "      <th>review_sentiment</th>\n",
       "      <th>gravity</th>\n",
       "      <th>language</th>\n",
       "    </tr>\n",
       "  </thead>\n",
       "  <tbody>\n",
       "    <tr>\n",
       "      <th>660</th>\n",
       "      <td>Disgusting burger horrible service, too much h...</td>\n",
       "      <td>1</td>\n",
       "      <td>negative</td>\n",
       "      <td>5</td>\n",
       "      <td>en</td>\n",
       "    </tr>\n",
       "    <tr>\n",
       "      <th>716</th>\n",
       "      <td>horrible service. this is the 3rd time we’ve o...</td>\n",
       "      <td>1</td>\n",
       "      <td>negative</td>\n",
       "      <td>4</td>\n",
       "      <td>en</td>\n",
       "    </tr>\n",
       "    <tr>\n",
       "      <th>1171</th>\n",
       "      <td>- Les livreurs dyalhom ytbelaw bnat ness ki yw...</td>\n",
       "      <td>1</td>\n",
       "      <td>negative</td>\n",
       "      <td>4</td>\n",
       "      <td>en</td>\n",
       "    </tr>\n",
       "    <tr>\n",
       "      <th>2803</th>\n",
       "      <td>The food was good but there was a lack of the ...</td>\n",
       "      <td>3</td>\n",
       "      <td>positive</td>\n",
       "      <td>4</td>\n",
       "      <td>en</td>\n",
       "    </tr>\n",
       "    <tr>\n",
       "      <th>4618</th>\n",
       "      <td>- service was terrible.\\n - waiters not friend...</td>\n",
       "      <td>1</td>\n",
       "      <td>negative</td>\n",
       "      <td>4</td>\n",
       "      <td>en</td>\n",
       "    </tr>\n",
       "    <tr>\n",
       "      <th>4620</th>\n",
       "      <td>The service was terrible. The waiters were ver...</td>\n",
       "      <td>1</td>\n",
       "      <td>negative</td>\n",
       "      <td>4</td>\n",
       "      <td>en</td>\n",
       "    </tr>\n",
       "    <tr>\n",
       "      <th>5964</th>\n",
       "      <td>This place fell off hard,i called for a takeou...</td>\n",
       "      <td>1</td>\n",
       "      <td>negative</td>\n",
       "      <td>4</td>\n",
       "      <td>en</td>\n",
       "    </tr>\n",
       "    <tr>\n",
       "      <th>7098</th>\n",
       "      <td>Such a bad experience, the service was awful, ...</td>\n",
       "      <td>1</td>\n",
       "      <td>negative</td>\n",
       "      <td>4</td>\n",
       "      <td>en</td>\n",
       "    </tr>\n",
       "    <tr>\n",
       "      <th>7866</th>\n",
       "      <td>Horrible service\\nRude waitress\\nHow can't we ...</td>\n",
       "      <td>1</td>\n",
       "      <td>negative</td>\n",
       "      <td>5</td>\n",
       "      <td>en</td>\n",
       "    </tr>\n",
       "  </tbody>\n",
       "</table>\n",
       "</div>"
      ],
      "text/plain": [
       "                                                   text  stars  \\\n",
       "660   Disgusting burger horrible service, too much h...      1   \n",
       "716   horrible service. this is the 3rd time we’ve o...      1   \n",
       "1171  - Les livreurs dyalhom ytbelaw bnat ness ki yw...      1   \n",
       "2803  The food was good but there was a lack of the ...      3   \n",
       "4618  - service was terrible.\\n - waiters not friend...      1   \n",
       "4620  The service was terrible. The waiters were ver...      1   \n",
       "5964  This place fell off hard,i called for a takeou...      1   \n",
       "7098  Such a bad experience, the service was awful, ...      1   \n",
       "7866  Horrible service\\nRude waitress\\nHow can't we ...      1   \n",
       "\n",
       "     review_sentiment  gravity language  \n",
       "660          negative        5       en  \n",
       "716          negative        4       en  \n",
       "1171         negative        4       en  \n",
       "2803         positive        4       en  \n",
       "4618         negative        4       en  \n",
       "4620         negative        4       en  \n",
       "5964         negative        4       en  \n",
       "7098         negative        4       en  \n",
       "7866         negative        5       en  "
      ]
     },
     "execution_count": 117,
     "metadata": {},
     "output_type": "execute_result"
    }
   ],
   "source": [
    "high_gravity_reviews.head(20)"
   ]
  },
  {
   "cell_type": "code",
   "execution_count": 118,
   "metadata": {},
   "outputs": [
    {
     "name": "stdout",
     "output_type": "stream",
     "text": [
      "Disgusting burger horrible service, too much hype too much sauce, terrible experience, i found a hair, the food was cold, never going back thanks for nothing,\n",
      "\n",
      "\n",
      "horrible service. this is the 3rd time we’ve ordered from them where they’ve forgotten something but they still charge you for it. if you have ran out of a certain item, call and apologise instead of sending the order without and still charging the customer you absolute idiots\n",
      "\n",
      "\n",
      "- Les livreurs dyalhom ytbelaw bnat ness ki yweslolhom la commande, mon amie lyouma ki wsltha la commande 9alha omb3d n3aytlek.\n",
      " - Aujourd’hui, un de leurs livreurs quand nous avons eu notre commande, il a dit à ma meilleure ami qu’il la rappellera plus tard, quel horrible service !\n",
      " - Today One of their delivery guys when we had our order, he told my bestfriend that he will call her back later, such a horrible service !\n",
      "\n",
      "\n",
      "The food was good but there was a lack of the menu, so many things weren't available, and the wait was horrible, so I ordered a burger and a panini, the burger took 15 minutes and the panini took another 25 minutes, they lack a lot of servers to maintain dinner or lunch rushes.\n",
      "\n",
      "\n",
      "- service was terrible.\n",
      " - waiters not friendly and very slow, they gave us a wrong order, and refused to get us what we actually ordered, so we went to Brother Pizza which was really nice .\n",
      " -The place is really crowded and the service is so bad, the food isn't that tasty, the prices are exaggerated, waiters are not qualified at all .\n",
      " - i wrote a review about Brother Pizza Elbiar.\n",
      "\n",
      "\n",
      "The service was terrible. The waiters were very slow and they gave us a wrong order, and refused to get us what we actually ordered, so we had to pay for an order that wasn't even ours...\n",
      " + We ordered another pizza with xl size and no onions, they got us xxl with extra onions!!!\n",
      " \n",
      " The place is really crowded and the service is so bad, the food isn't that tasty, the prices are exaggerated... it's not worth the hype.\n",
      "\n",
      "\n",
      "This place fell off hard,i called for a takeout about a month ago around 10 pm they confirmed the order and then wouldn't pick up the phone we were left with no dinner,went in and gave it a second chance this week,the new guy is so rude and weird,last year it was top tier rn its just horrible\n",
      "\n",
      "\n",
      "Such a bad experience, the service was awful, and the place was not that welcoming, I surely don't recommend it\n",
      "\n",
      "\n",
      "Horrible service\n",
      "Rude waitress\n",
      "How can't we eat sandwiches in the restaurant it's  only for takeaway?? They cost a minimum 600 da\n",
      "Bad vibes no wonder it was empty\n",
      "Not advised if you're used to high-quality food and service\n",
      "\n",
      "\n"
     ]
    }
   ],
   "source": [
    "for text in high_gravity_reviews['text']:\n",
    "    print(text)\n",
    "    print('\\n')"
   ]
  },
  {
   "cell_type": "code",
   "execution_count": 119,
   "metadata": {},
   "outputs": [
    {
     "data": {
      "text/plain": [
       "\"J'ai récemment eu l'occasion de visiter le restaurant American Burger et j'ai été séduit par leur délicieux burger Hollandia. La combinaison de saveurs était excellente et la taille généreuse du burger était impressionnante. La viande était juteuse et les accompagnements ajoutaient une touche de fraîcheur.\\n \\n Cependant, j'ai été un peu déçu de constater qu'ils ne fournissaient pas de gants avec le burger. Étant donné que j'ai pris un Triple qui est assez copieux et savoureux, il peut être un peu désordonné à déguster. Des gants jetables seraient très appréciés pour faciliter la dégustation sans se salir les mains.\\n \\n Je tiens à souligner que la qualité du burger en lui-même était excellente et que cela vaut la peine d'être essayé. Cependant, j'encouragerais le restaurant American Burger à envisager d'inclure des gants jetables avec leurs burgers triples. Cela permettrait aux clients de profiter pleinement de leur repas sans se soucier de se salir les mains.\\n \\n Malgré cet aspect, je recommande vivement le burger Hollandia au restaurant American Burger. La saveur et la qualité des ingrédients sont au rendez-vous, et je suis sûr que vous apprécierez votre expérience .\\n \\n Dans l'ensemble, j'ai passé un bon moment au restaurant et je reviendrai certainement pour déguster d'autres plats de leur menu. J'espère qu'ils prendront en compte mon conseil concernant l'inclusion de gants jetables avec les burgers triples.\\n [30/05]: cette fois ci j’étais assez déçu après avoir commandé un blue burger une barquette de frites une bouteille d’eau et j’ai demandé des gants et a la fin j’ai seulement reçu un autre burger (forest) et ils ne m’ont pas ramené ni la bouteille d’eau ni les gants\""
      ]
     },
     "execution_count": 119,
     "metadata": {},
     "output_type": "execute_result"
    }
   ],
   "source": [
    "reviews2['text'].iloc[1001]"
   ]
  },
  {
   "cell_type": "code",
   "execution_count": 120,
   "metadata": {},
   "outputs": [],
   "source": [
    "detected_languages = reviews2['language'].unique()"
   ]
  },
  {
   "cell_type": "code",
   "execution_count": 121,
   "metadata": {},
   "outputs": [
    {
     "name": "stdout",
     "output_type": "stream",
     "text": [
      "['fr' 'ar' 'en' 'it' 'tr' 'unknown' 'tl' 'fi' 'so' 'da' 'ro' 'sw' 'lt'\n",
      " 'fa' 'cy' 'id' 'nl' 'es' 'ca' 'hu' 'sk' 'de' 'pt' 'et' 'no' 'sl' 'af'\n",
      " 'vi' 'ur' 'lv' 'hr' 'cs' 'pl' 'ru' 'sv' 'zh-cn' 'ko' 'sq']\n"
     ]
    }
   ],
   "source": [
    "print(detected_languages)"
   ]
  },
  {
   "cell_type": "code",
   "execution_count": 122,
   "metadata": {},
   "outputs": [
    {
     "data": {
      "text/plain": [
       "language\n",
       "fr         5242\n",
       "en         1260\n",
       "ar         1008\n",
       "it          179\n",
       "ca          120\n",
       "tl          106\n",
       "so           75\n",
       "id           71\n",
       "es           59\n",
       "de           58\n",
       "ro           55\n",
       "ur           43\n",
       "unknown      42\n",
       "pt           40\n",
       "nl           33\n",
       "af           30\n",
       "sw           26\n",
       "tr           22\n",
       "et           21\n",
       "cy           18\n",
       "fi           16\n",
       "fa           15\n",
       "sl           10\n",
       "hu           10\n",
       "lt            9\n",
       "sk            9\n",
       "pl            9\n",
       "cs            9\n",
       "da            8\n",
       "no            8\n",
       "zh-cn         8\n",
       "vi            8\n",
       "hr            7\n",
       "lv            6\n",
       "ru            4\n",
       "sv            4\n",
       "ko            4\n",
       "sq            2\n",
       "Name: count, dtype: int64"
      ]
     },
     "execution_count": 122,
     "metadata": {},
     "output_type": "execute_result"
    }
   ],
   "source": [
    "reviews2['language'].value_counts()"
   ]
  },
  {
   "cell_type": "code",
   "execution_count": 123,
   "metadata": {},
   "outputs": [],
   "source": [
    "filtered_reviews = reviews2[reviews2['language'].isin(['fr', 'en', 'ar'])]"
   ]
  },
  {
   "cell_type": "code",
   "execution_count": 124,
   "metadata": {},
   "outputs": [
    {
     "data": {
      "text/html": [
       "<div>\n",
       "<style scoped>\n",
       "    .dataframe tbody tr th:only-of-type {\n",
       "        vertical-align: middle;\n",
       "    }\n",
       "\n",
       "    .dataframe tbody tr th {\n",
       "        vertical-align: top;\n",
       "    }\n",
       "\n",
       "    .dataframe thead th {\n",
       "        text-align: right;\n",
       "    }\n",
       "</style>\n",
       "<table border=\"1\" class=\"dataframe\">\n",
       "  <thead>\n",
       "    <tr style=\"text-align: right;\">\n",
       "      <th></th>\n",
       "      <th>text</th>\n",
       "      <th>stars</th>\n",
       "      <th>review_sentiment</th>\n",
       "      <th>gravity</th>\n",
       "      <th>language</th>\n",
       "    </tr>\n",
       "  </thead>\n",
       "  <tbody>\n",
       "    <tr>\n",
       "      <th>0</th>\n",
       "      <td>Sauce vipo infecte piquante sans aucun goût ni...</td>\n",
       "      <td>2</td>\n",
       "      <td>negative</td>\n",
       "      <td>0</td>\n",
       "      <td>fr</td>\n",
       "    </tr>\n",
       "    <tr>\n",
       "      <th>1</th>\n",
       "      <td>La cuisine est médiocre, la sauce Vipo est san...</td>\n",
       "      <td>1</td>\n",
       "      <td>negative</td>\n",
       "      <td>0</td>\n",
       "      <td>fr</td>\n",
       "    </tr>\n",
       "    <tr>\n",
       "      <th>2</th>\n",
       "      <td>الاجواء و الاضاءة روعة\\n النظافة في القمة\\n ال...</td>\n",
       "      <td>5</td>\n",
       "      <td>positive</td>\n",
       "      <td>0</td>\n",
       "      <td>ar</td>\n",
       "    </tr>\n",
       "    <tr>\n",
       "      <th>3</th>\n",
       "      <td>J'ai vraiment aimé cette place, le service est...</td>\n",
       "      <td>4</td>\n",
       "      <td>positive</td>\n",
       "      <td>0</td>\n",
       "      <td>fr</td>\n",
       "    </tr>\n",
       "    <tr>\n",
       "      <th>4</th>\n",
       "      <td>Cozy place, good burgers for the price u pay, ...</td>\n",
       "      <td>4</td>\n",
       "      <td>positive</td>\n",
       "      <td>0</td>\n",
       "      <td>en</td>\n",
       "    </tr>\n",
       "  </tbody>\n",
       "</table>\n",
       "</div>"
      ],
      "text/plain": [
       "                                                text  stars review_sentiment  \\\n",
       "0  Sauce vipo infecte piquante sans aucun goût ni...      2         negative   \n",
       "1  La cuisine est médiocre, la sauce Vipo est san...      1         negative   \n",
       "2  الاجواء و الاضاءة روعة\\n النظافة في القمة\\n ال...      5         positive   \n",
       "3  J'ai vraiment aimé cette place, le service est...      4         positive   \n",
       "4  Cozy place, good burgers for the price u pay, ...      4         positive   \n",
       "\n",
       "   gravity language  \n",
       "0        0       fr  \n",
       "1        0       fr  \n",
       "2        0       ar  \n",
       "3        0       fr  \n",
       "4        0       en  "
      ]
     },
     "execution_count": 124,
     "metadata": {},
     "output_type": "execute_result"
    }
   ],
   "source": [
    "filtered_reviews.head()"
   ]
  },
  {
   "cell_type": "code",
   "execution_count": 125,
   "metadata": {},
   "outputs": [
    {
     "name": "stderr",
     "output_type": "stream",
     "text": [
      "C:\\Users\\zackb\\AppData\\Local\\Temp\\ipykernel_42016\\614605933.py:2: SettingWithCopyWarning: \n",
      "A value is trying to be set on a copy of a slice from a DataFrame.\n",
      "Try using .loc[row_indexer,col_indexer] = value instead\n",
      "\n",
      "See the caveats in the documentation: https://pandas.pydata.org/pandas-docs/stable/user_guide/indexing.html#returning-a-view-versus-a-copy\n",
      "  filtered_reviews['language'] = filtered_reviews['language'].map(language_mapping)\n"
     ]
    }
   ],
   "source": [
    "language_mapping = {'fr': 'French', 'en': 'English', 'ar': 'Arabic'}\n",
    "filtered_reviews['language'] = filtered_reviews['language'].map(language_mapping)"
   ]
  },
  {
   "cell_type": "code",
   "execution_count": 126,
   "metadata": {},
   "outputs": [
    {
     "data": {
      "text/html": [
       "<div>\n",
       "<style scoped>\n",
       "    .dataframe tbody tr th:only-of-type {\n",
       "        vertical-align: middle;\n",
       "    }\n",
       "\n",
       "    .dataframe tbody tr th {\n",
       "        vertical-align: top;\n",
       "    }\n",
       "\n",
       "    .dataframe thead th {\n",
       "        text-align: right;\n",
       "    }\n",
       "</style>\n",
       "<table border=\"1\" class=\"dataframe\">\n",
       "  <thead>\n",
       "    <tr style=\"text-align: right;\">\n",
       "      <th></th>\n",
       "      <th>text</th>\n",
       "      <th>stars</th>\n",
       "      <th>review_sentiment</th>\n",
       "      <th>gravity</th>\n",
       "      <th>language</th>\n",
       "    </tr>\n",
       "  </thead>\n",
       "  <tbody>\n",
       "    <tr>\n",
       "      <th>0</th>\n",
       "      <td>Sauce vipo infecte piquante sans aucun goût ni...</td>\n",
       "      <td>2</td>\n",
       "      <td>negative</td>\n",
       "      <td>0</td>\n",
       "      <td>French</td>\n",
       "    </tr>\n",
       "    <tr>\n",
       "      <th>1</th>\n",
       "      <td>La cuisine est médiocre, la sauce Vipo est san...</td>\n",
       "      <td>1</td>\n",
       "      <td>negative</td>\n",
       "      <td>0</td>\n",
       "      <td>French</td>\n",
       "    </tr>\n",
       "    <tr>\n",
       "      <th>2</th>\n",
       "      <td>الاجواء و الاضاءة روعة\\n النظافة في القمة\\n ال...</td>\n",
       "      <td>5</td>\n",
       "      <td>positive</td>\n",
       "      <td>0</td>\n",
       "      <td>Arabic</td>\n",
       "    </tr>\n",
       "    <tr>\n",
       "      <th>3</th>\n",
       "      <td>J'ai vraiment aimé cette place, le service est...</td>\n",
       "      <td>4</td>\n",
       "      <td>positive</td>\n",
       "      <td>0</td>\n",
       "      <td>French</td>\n",
       "    </tr>\n",
       "    <tr>\n",
       "      <th>4</th>\n",
       "      <td>Cozy place, good burgers for the price u pay, ...</td>\n",
       "      <td>4</td>\n",
       "      <td>positive</td>\n",
       "      <td>0</td>\n",
       "      <td>English</td>\n",
       "    </tr>\n",
       "  </tbody>\n",
       "</table>\n",
       "</div>"
      ],
      "text/plain": [
       "                                                text  stars review_sentiment  \\\n",
       "0  Sauce vipo infecte piquante sans aucun goût ni...      2         negative   \n",
       "1  La cuisine est médiocre, la sauce Vipo est san...      1         negative   \n",
       "2  الاجواء و الاضاءة روعة\\n النظافة في القمة\\n ال...      5         positive   \n",
       "3  J'ai vraiment aimé cette place, le service est...      4         positive   \n",
       "4  Cozy place, good burgers for the price u pay, ...      4         positive   \n",
       "\n",
       "   gravity language  \n",
       "0        0   French  \n",
       "1        0   French  \n",
       "2        0   Arabic  \n",
       "3        0   French  \n",
       "4        0  English  "
      ]
     },
     "execution_count": 126,
     "metadata": {},
     "output_type": "execute_result"
    }
   ],
   "source": [
    "filtered_reviews.head()"
   ]
  },
  {
   "cell_type": "code",
   "execution_count": 127,
   "metadata": {},
   "outputs": [
    {
     "name": "stderr",
     "output_type": "stream",
     "text": [
      "C:\\Users\\zackb\\AppData\\Local\\Temp\\ipykernel_42016\\3099088477.py:1: SettingWithCopyWarning: \n",
      "A value is trying to be set on a copy of a slice from a DataFrame\n",
      "\n",
      "See the caveats in the documentation: https://pandas.pydata.org/pandas-docs/stable/user_guide/indexing.html#returning-a-view-versus-a-copy\n",
      "  filtered_reviews.drop(columns=['stars', 'gravity'], inplace=True)\n"
     ]
    }
   ],
   "source": [
    "filtered_reviews.drop(columns=['stars', 'gravity'], inplace=True)"
   ]
  },
  {
   "cell_type": "code",
   "execution_count": 128,
   "metadata": {},
   "outputs": [
    {
     "data": {
      "text/html": [
       "<div>\n",
       "<style scoped>\n",
       "    .dataframe tbody tr th:only-of-type {\n",
       "        vertical-align: middle;\n",
       "    }\n",
       "\n",
       "    .dataframe tbody tr th {\n",
       "        vertical-align: top;\n",
       "    }\n",
       "\n",
       "    .dataframe thead th {\n",
       "        text-align: right;\n",
       "    }\n",
       "</style>\n",
       "<table border=\"1\" class=\"dataframe\">\n",
       "  <thead>\n",
       "    <tr style=\"text-align: right;\">\n",
       "      <th></th>\n",
       "      <th>text</th>\n",
       "      <th>review_sentiment</th>\n",
       "      <th>language</th>\n",
       "    </tr>\n",
       "  </thead>\n",
       "  <tbody>\n",
       "    <tr>\n",
       "      <th>0</th>\n",
       "      <td>Sauce vipo infecte piquante sans aucun goût ni...</td>\n",
       "      <td>negative</td>\n",
       "      <td>French</td>\n",
       "    </tr>\n",
       "    <tr>\n",
       "      <th>1</th>\n",
       "      <td>La cuisine est médiocre, la sauce Vipo est san...</td>\n",
       "      <td>negative</td>\n",
       "      <td>French</td>\n",
       "    </tr>\n",
       "    <tr>\n",
       "      <th>2</th>\n",
       "      <td>الاجواء و الاضاءة روعة\\n النظافة في القمة\\n ال...</td>\n",
       "      <td>positive</td>\n",
       "      <td>Arabic</td>\n",
       "    </tr>\n",
       "    <tr>\n",
       "      <th>3</th>\n",
       "      <td>J'ai vraiment aimé cette place, le service est...</td>\n",
       "      <td>positive</td>\n",
       "      <td>French</td>\n",
       "    </tr>\n",
       "    <tr>\n",
       "      <th>4</th>\n",
       "      <td>Cozy place, good burgers for the price u pay, ...</td>\n",
       "      <td>positive</td>\n",
       "      <td>English</td>\n",
       "    </tr>\n",
       "  </tbody>\n",
       "</table>\n",
       "</div>"
      ],
      "text/plain": [
       "                                                text review_sentiment language\n",
       "0  Sauce vipo infecte piquante sans aucun goût ni...         negative   French\n",
       "1  La cuisine est médiocre, la sauce Vipo est san...         negative   French\n",
       "2  الاجواء و الاضاءة روعة\\n النظافة في القمة\\n ال...         positive   Arabic\n",
       "3  J'ai vraiment aimé cette place, le service est...         positive   French\n",
       "4  Cozy place, good burgers for the price u pay, ...         positive  English"
      ]
     },
     "execution_count": 128,
     "metadata": {},
     "output_type": "execute_result"
    }
   ],
   "source": [
    "filtered_reviews.head()"
   ]
  },
  {
   "cell_type": "code",
   "execution_count": 129,
   "metadata": {},
   "outputs": [
    {
     "name": "stdout",
     "output_type": "stream",
     "text": [
      "                                            review_text sentiment\n",
      "0     Sauce vipo infecte piquante sans aucun goût ni...  negative\n",
      "1     La cuisine est médiocre, la sauce Vipo est san...  negative\n",
      "2     الاجواء و الاضاءة روعة\\n النظافة في القمة\\n ال...  positive\n",
      "3     J'ai vraiment aimé cette place, le service est...  positive\n",
      "4     Cozy place, good burgers for the price u pay, ...  positive\n",
      "...                                                 ...       ...\n",
      "1133  The delivery was fast and food was good. The b...  Positive\n",
      "1134  Fast service, but the food was disappointing. ...  Negative\n",
      "1135  Delivery was on time, and the food was hot. Th...  Positive\n",
      "1136  Service was fast, but the burger was not good,...  Negative\n",
      "1137  The food arrived quickly, but it was cold. The...  Negative\n",
      "\n",
      "[8648 rows x 2 columns]\n"
     ]
    }
   ],
   "source": [
    "# Rename columns in filtered_reviews to match the final format\n",
    "filtered_reviews = filtered_reviews[['text', 'review_sentiment']].rename(columns={'text': 'review_text', 'review_sentiment': 'sentiment'})\n",
    "\n",
    "# Rename columns in reviews to match the final format\n",
    "reviews = reviews[['Review_Text', 'Sentiment']].rename(columns={'Review_Text': 'review_text', 'Sentiment': 'sentiment'})\n",
    "\n",
    "# Concatenate the DataFrames\n",
    "merged_reviews = pd.concat([filtered_reviews[['review_text', 'sentiment']], reviews[['review_text', 'sentiment']]])\n",
    "\n",
    "# Display the merged DataFrame\n",
    "print(merged_reviews)\n"
   ]
  },
  {
   "cell_type": "code",
   "execution_count": 130,
   "metadata": {},
   "outputs": [
    {
     "name": "stdout",
     "output_type": "stream",
     "text": [
      "sentiment\n",
      "positive    5991\n",
      "negative    2657\n",
      "Name: count, dtype: int64\n"
     ]
    }
   ],
   "source": [
    "# Standardize sentiment labels to lowercase\n",
    "merged_reviews['sentiment'] = merged_reviews['sentiment'].str.lower()\n",
    "\n",
    "# Handle possible variations and replace them\n",
    "merged_reviews['sentiment'] = merged_reviews['sentiment'].replace({\n",
    "    'positive': 'positive',\n",
    "    'negative': 'negative',\n",
    "    'positif': 'positive',  # If 'Positif' is meant to be 'positive'\n",
    "    'sentiment (positive/negative)': 'positive',  # If you want to treat this as positive\n",
    "    '': 'negative'  # If there's any empty value, consider it negative\n",
    "})\n",
    "\n",
    "# Check the distribution of the sentiment column\n",
    "print(merged_reviews['sentiment'].value_counts())\n"
   ]
  },
  {
   "cell_type": "markdown",
   "metadata": {},
   "source": [
    "Naive Bayes\n"
   ]
  },
  {
   "cell_type": "code",
   "execution_count": 131,
   "metadata": {},
   "outputs": [
    {
     "data": {
      "text/plain": [
       "sentiment\n",
       "positive    5991\n",
       "negative    2657\n",
       "Name: count, dtype: int64"
      ]
     },
     "execution_count": 131,
     "metadata": {},
     "output_type": "execute_result"
    }
   ],
   "source": [
    "merged_reviews['sentiment'].value_counts()"
   ]
  },
  {
   "cell_type": "markdown",
   "metadata": {},
   "source": [
    "# UTILS"
   ]
  },
  {
   "cell_type": "markdown",
   "metadata": {},
   "source": []
  },
  {
   "cell_type": "code",
   "execution_count": 132,
   "metadata": {},
   "outputs": [
    {
     "name": "stderr",
     "output_type": "stream",
     "text": [
      "[nltk_data] Downloading package stopwords to\n",
      "[nltk_data]     C:\\Users\\zackb\\AppData\\Roaming\\nltk_data...\n",
      "[nltk_data]   Package stopwords is already up-to-date!\n",
      "[nltk_data] Downloading package punkt to\n",
      "[nltk_data]     C:\\Users\\zackb\\AppData\\Roaming\\nltk_data...\n",
      "[nltk_data]   Package punkt is already up-to-date!\n"
     ]
    }
   ],
   "source": [
    "import re\n",
    "import string\n",
    "import emoji\n",
    "from langdetect import detect, LangDetectException\n",
    "import nltk\n",
    "nltk.download('stopwords')  # For stopwords\n",
    "nltk.download('punkt')      # For tokenization\n",
    "from nltk.tokenize import word_tokenize\n",
    "from nltk.corpus import stopwords\n",
    "from nltk.stem import WordNetLemmatizer\n",
    "import contractions\n",
    "from nltk.tokenize import word_tokenize\n",
    "\n",
    "\n",
    "\n",
    "# Initialize lemmatizer\n",
    "lemmatizer = WordNetLemmatizer()\n",
    "\n",
    "# Load stopwords for English, French, and Arabic\n",
    "stop_words_en = set(stopwords.words('english'))\n",
    "stop_words_fr = set(stopwords.words('french'))\n",
    "stop_words_ar = set(stopwords.words('arabic'))\n",
    "\n",
    "# # Clean emojis from text\n",
    "# def strip_emoji(text):\n",
    "#     \"\"\"Remove emojis from the review text.\"\"\"\n",
    "#     return emoji.get_emoji_regexp().sub(\"\", text)\n",
    "\n",
    "# Remove punctuations, stopwords, links, mentions, and non-ASCII characters\n",
    "def strip_all_entities(text, lang='en'):\n",
    "    \"\"\"Clean review text by removing links, mentions, punctuation, stopwords, and non-ASCII characters.\"\"\"\n",
    "    # Normalize newlines and convert to lowercase\n",
    "    text = re.sub(r'\\r|\\n', ' ', text.lower()) \n",
    "    \n",
    "    # Remove links and mentions\n",
    "    text = re.sub(r\"(?:\\@|https?\\://)\\S+\", \"\", text)  \n",
    "    \n",
    "    # Remove non-ASCII characters\n",
    "    text = re.sub(r'[^\\x00-\\x7f]', '', text)\n",
    "    \n",
    "    # Remove punctuation\n",
    "    text = text.translate(str.maketrans('', '', string.punctuation))\n",
    "    \n",
    "    # Remove stopwords based on the detected language\n",
    "    if lang == 'fr':\n",
    "        stop_words = stop_words_fr\n",
    "    elif lang == 'ar':\n",
    "        stop_words = stop_words_ar\n",
    "    else:\n",
    "        stop_words = stop_words_en\n",
    "    \n",
    "    # Remove stopwords\n",
    "    text = ' '.join(word for word in text.split() if word not in stop_words)\n",
    "    \n",
    "    return text\n",
    "\n",
    "# Clean hashtags in review text\n",
    "def clean_hashtags(review):\n",
    "    \"\"\"Remove hashtags at the end and clean middle hashtags in the review.\"\"\"\n",
    "    review = re.sub(r'(\\s+#[\\w-]+)+\\s*$', '', review).strip()  # Remove ending hashtags\n",
    "    return re.sub(r'#([\\w-]+)', r'\\1', review).strip()  # Remove '#' symbol from middle hashtags\n",
    "\n",
    "# Filter special characters such as & and $ present in some words\n",
    "def filter_chars(text):\n",
    "    \"\"\"Filter out unwanted characters like $ and & from the review text.\"\"\"\n",
    "    return ' '.join('' if ('$' in word) or ('&' in word) else word for word in text.split())\n",
    "\n",
    "# Remove multiple spaces\n",
    "def remove_mult_spaces(text):\n",
    "    \"\"\"Remove multiple spaces from review text.\"\"\"\n",
    "    return re.sub(r\"\\s\\s+\", \" \", text)\n",
    "\n",
    "# Function to check if the review text is in English, and return an empty string if it's not\n",
    "# def filter_non_english(text):\n",
    "#     \"\"\"Filter out non-English reviews.\"\"\"\n",
    "#     try:\n",
    "#         lang = detect(text)\n",
    "#     except LangDetectException:\n",
    "#         lang = \"unknown\"\n",
    "#     return text if lang == \"en\" else \"\"\n",
    "\n",
    "# Expand contractions like \"don't\" to \"do not\"\n",
    "def expand_contractions(text):\n",
    "    \"\"\"Expand contractions in the review text.\"\"\"\n",
    "    return contractions.fix(text)\n",
    "\n",
    "# Remove numbers from the review text\n",
    "def remove_numbers(text):\n",
    "    \"\"\"Remove numbers from the review text.\"\"\"\n",
    "    return re.sub(r'\\d+', '', text)\n",
    "\n",
    "# Lemmatize words in the review\n",
    "def lemmatize(text, lang='en'):\n",
    "    \"\"\"Lemmatize words in the review text to their base forms.\"\"\"\n",
    "    if lang != 'en':\n",
    "        return text  # Skip lemmatization for non-English text\n",
    "    \n",
    "    words = word_tokenize(text)\n",
    "    lemmatized_words = [lemmatizer.lemmatize(word) for word in words]\n",
    "    return ' '.join(lemmatized_words)\n",
    "\n",
    "# Remove short words from the review\n",
    "def remove_short_words(text, min_len=2):\n",
    "    \"\"\"Remove words that are shorter than the specified length.\"\"\"\n",
    "    words = text.split()\n",
    "    long_words = [word for word in words if len(word) >= min_len]\n",
    "    return ' '.join(long_words)\n",
    "\n",
    "# Replace elongated words (like \"sooooon\") with their base form (\"soon\")\n",
    "def replace_elongated_words(text):\n",
    "    \"\"\"Replace elongated words in the review with their base form.\"\"\"\n",
    "    regex_pattern = r'\\b(\\w+)((\\w)\\3{2,})(\\w*)\\b'\n",
    "    return re.sub(regex_pattern, r'\\1\\3\\4', text)\n",
    "\n",
    "# Remove repeated punctuation marks (e.g., \"!!!\", \"???\")\n",
    "def remove_repeated_punctuation(text):\n",
    "    \"\"\"Remove repeated punctuation marks in the review text.\"\"\"\n",
    "    return re.sub(r'[\\?\\.\\!]+(?=[\\?\\.\\!])', '', text)\n",
    "\n",
    "# Remove extra whitespace\n",
    "def remove_extra_whitespace(text):\n",
    "    \"\"\"Remove extra whitespace from the review text.\"\"\"\n",
    "    return ' '.join(text.split())\n",
    "\n",
    "# Remove URL shorteners\n",
    "def remove_url_shorteners(text):\n",
    "    \"\"\"Remove common URL shorteners from the review text.\"\"\"\n",
    "    return re.sub(r'(?:http[s]?://)?(?:www\\.)?(?:bit\\.ly|goo\\.gl|t\\.co|tinyurl\\.com|tr\\.im|is\\.gd|cli\\.gs|u\\.nu|url\\.ie|tiny\\.cc|alturl\\.com|ow\\.ly|bit\\.do|adoro\\.to)\\S+', '', text)\n",
    "\n",
    "# Remove spaces at the beginning and end of the review\n",
    "def remove_spaces_reviews(review):\n",
    "    \"\"\"Remove spaces at the beginning and end of the review text.\"\"\"\n",
    "    return review.strip()\n",
    "\n",
    "# Remove short reviews based on the number of words\n",
    "def remove_short_reviews(review, min_words=3):\n",
    "    \"\"\"Remove reviews that are shorter than a specified number of words.\"\"\"\n",
    "    words = review.split()\n",
    "    return review if len(words) >= min_words else \"\"\n"
   ]
  },
  {
   "cell_type": "code",
   "execution_count": 133,
   "metadata": {},
   "outputs": [],
   "source": [
    "from sklearn.model_selection import train_test_split\n",
    "from sklearn.feature_extraction.text import TfidfVectorizer\n",
    "from sklearn.naive_bayes import MultinomialNB\n",
    "from sklearn.metrics import accuracy_score, confusion_matrix, classification_report\n",
    "from sklearn.pipeline import make_pipeline"
   ]
  },
  {
   "cell_type": "code",
   "execution_count": null,
   "metadata": {},
   "outputs": [
    {
     "ename": "SyntaxError",
     "evalue": "unterminated string literal (detected at line 7) (1843806987.py, line 7)",
     "output_type": "error",
     "traceback": [
      "\u001b[1;36m  Cell \u001b[1;32mIn[139], line 7\u001b[1;36m\u001b[0m\n\u001b[1;33m    reviews['review_text] = reviews['review_text'].apply(lambda x: expand_contractions(x))\u001b[0m\n\u001b[1;37m                                                ^\u001b[0m\n\u001b[1;31mSyntaxError\u001b[0m\u001b[1;31m:\u001b[0m unterminated string literal (detected at line 7)\n"
     ]
    }
   ],
   "source": [
    "def preprocess_reviews(reviews):\n",
    "    # reviews['review_text'] = reviews['review_text'].apply(lambda x: strip_emoji(x))\n",
    "    reviews['review_text'] = reviews['review_text'].apply(lambda x: strip_all_entities(x))\n",
    "    reviews['review_text'] = reviews['review_text'].apply(lambda x: clean_hashtags(x))\n",
    "    reviews['review_text'] = reviews['review_text'].apply(lambda x: filter_chars(x))\n",
    "    reviews['review_text'] = reviews['review_text'].apply(lambda x: remove_mult_spaces(x))\n",
    "    reviews['review_text'] = reviews['review_text'].apply(lambda x: expand_contractions(x))\n",
    "    reviews['review_text'] = reviews['review_text'].apply(lambda x: remove_numbers(x))\n",
    "    reviews['review_text'] = reviews['review_text'].apply(lambda x: lemmatize(x))\n",
    "    reviews['review_text'] = reviews['review_text'].apply(lambda x: remove_short_words(x))\n",
    "\n",
    "    return reviews"
   ]
  },
  {
   "cell_type": "code",
   "execution_count": 135,
   "metadata": {},
   "outputs": [
    {
     "data": {
      "text/html": [
       "<div>\n",
       "<style scoped>\n",
       "    .dataframe tbody tr th:only-of-type {\n",
       "        vertical-align: middle;\n",
       "    }\n",
       "\n",
       "    .dataframe tbody tr th {\n",
       "        vertical-align: top;\n",
       "    }\n",
       "\n",
       "    .dataframe thead th {\n",
       "        text-align: right;\n",
       "    }\n",
       "</style>\n",
       "<table border=\"1\" class=\"dataframe\">\n",
       "  <thead>\n",
       "    <tr style=\"text-align: right;\">\n",
       "      <th></th>\n",
       "      <th>review_text</th>\n",
       "      <th>sentiment</th>\n",
       "    </tr>\n",
       "  </thead>\n",
       "  <tbody>\n",
       "    <tr>\n",
       "      <th>0</th>\n",
       "      <td>La livraison a été très rapide et le repas éta...</td>\n",
       "      <td>Positive</td>\n",
       "    </tr>\n",
       "    <tr>\n",
       "      <th>1</th>\n",
       "      <td>الأكل وصل باردًا ولم يكن طازجًا كما توقعت.</td>\n",
       "      <td>Negative</td>\n",
       "    </tr>\n",
       "    <tr>\n",
       "      <th>2</th>\n",
       "      <td>The food was delicious and the delivery was pr...</td>\n",
       "      <td>Positive</td>\n",
       "    </tr>\n",
       "    <tr>\n",
       "      <th>3</th>\n",
       "      <td>La plateforme a des problèmes de connexion fré...</td>\n",
       "      <td>Negative</td>\n",
       "    </tr>\n",
       "    <tr>\n",
       "      <th>4</th>\n",
       "      <td>خدمة التوصيل ممتازة والأسعار مناسبة.</td>\n",
       "      <td>Positive</td>\n",
       "    </tr>\n",
       "  </tbody>\n",
       "</table>\n",
       "</div>"
      ],
      "text/plain": [
       "                                         review_text sentiment\n",
       "0  La livraison a été très rapide et le repas éta...  Positive\n",
       "1         الأكل وصل باردًا ولم يكن طازجًا كما توقعت.  Negative\n",
       "2  The food was delicious and the delivery was pr...  Positive\n",
       "3  La plateforme a des problèmes de connexion fré...  Negative\n",
       "4               خدمة التوصيل ممتازة والأسعار مناسبة.  Positive"
      ]
     },
     "execution_count": 135,
     "metadata": {},
     "output_type": "execute_result"
    }
   ],
   "source": [
    "reviews.head()"
   ]
  },
  {
   "cell_type": "code",
   "execution_count": 138,
   "metadata": {},
   "outputs": [
    {
     "ename": "KeyError",
     "evalue": "'cleaned_text'",
     "output_type": "error",
     "traceback": [
      "\u001b[1;31m---------------------------------------------------------------------------\u001b[0m",
      "\u001b[1;31mKeyError\u001b[0m                                  Traceback (most recent call last)",
      "File \u001b[1;32mc:\\Users\\zackb\\AppData\\Local\\Programs\\Python\\Python311\\Lib\\site-packages\\pandas\\core\\indexes\\base.py:3805\u001b[0m, in \u001b[0;36mIndex.get_loc\u001b[1;34m(self, key)\u001b[0m\n\u001b[0;32m   3804\u001b[0m \u001b[38;5;28;01mtry\u001b[39;00m:\n\u001b[1;32m-> 3805\u001b[0m     \u001b[38;5;28;01mreturn\u001b[39;00m \u001b[38;5;28;43mself\u001b[39;49m\u001b[38;5;241;43m.\u001b[39;49m\u001b[43m_engine\u001b[49m\u001b[38;5;241;43m.\u001b[39;49m\u001b[43mget_loc\u001b[49m\u001b[43m(\u001b[49m\u001b[43mcasted_key\u001b[49m\u001b[43m)\u001b[49m\n\u001b[0;32m   3806\u001b[0m \u001b[38;5;28;01mexcept\u001b[39;00m \u001b[38;5;167;01mKeyError\u001b[39;00m \u001b[38;5;28;01mas\u001b[39;00m err:\n",
      "File \u001b[1;32mindex.pyx:167\u001b[0m, in \u001b[0;36mpandas._libs.index.IndexEngine.get_loc\u001b[1;34m()\u001b[0m\n",
      "File \u001b[1;32mindex.pyx:196\u001b[0m, in \u001b[0;36mpandas._libs.index.IndexEngine.get_loc\u001b[1;34m()\u001b[0m\n",
      "File \u001b[1;32mpandas\\\\_libs\\\\hashtable_class_helper.pxi:7081\u001b[0m, in \u001b[0;36mpandas._libs.hashtable.PyObjectHashTable.get_item\u001b[1;34m()\u001b[0m\n",
      "File \u001b[1;32mpandas\\\\_libs\\\\hashtable_class_helper.pxi:7089\u001b[0m, in \u001b[0;36mpandas._libs.hashtable.PyObjectHashTable.get_item\u001b[1;34m()\u001b[0m\n",
      "\u001b[1;31mKeyError\u001b[0m: 'cleaned_text'",
      "\nThe above exception was the direct cause of the following exception:\n",
      "\u001b[1;31mKeyError\u001b[0m                                  Traceback (most recent call last)",
      "Cell \u001b[1;32mIn[138], line 2\u001b[0m\n\u001b[0;32m      1\u001b[0m \u001b[38;5;66;03m# Apply preprocessing to merged_reviews\u001b[39;00m\n\u001b[1;32m----> 2\u001b[0m merged_reviews \u001b[38;5;241m=\u001b[39m \u001b[43mpreprocess_reviews\u001b[49m\u001b[43m(\u001b[49m\u001b[43mmerged_reviews\u001b[49m\u001b[43m)\u001b[49m\n\u001b[0;32m      4\u001b[0m \u001b[38;5;66;03m# Check the result\u001b[39;00m\n\u001b[0;32m      5\u001b[0m merged_reviews\u001b[38;5;241m.\u001b[39mhead()\n",
      "Cell \u001b[1;32mIn[134], line 3\u001b[0m, in \u001b[0;36mpreprocess_reviews\u001b[1;34m(reviews)\u001b[0m\n\u001b[0;32m      1\u001b[0m \u001b[38;5;28;01mdef\u001b[39;00m \u001b[38;5;21mpreprocess_reviews\u001b[39m(reviews):\n\u001b[0;32m      2\u001b[0m     \u001b[38;5;66;03m# reviews['cleaned_text'] = reviews['review_text'].apply(lambda x: strip_emoji(x))\u001b[39;00m\n\u001b[1;32m----> 3\u001b[0m     reviews[\u001b[38;5;124m'\u001b[39m\u001b[38;5;124mcleaned_text\u001b[39m\u001b[38;5;124m'\u001b[39m] \u001b[38;5;241m=\u001b[39m \u001b[43mreviews\u001b[49m\u001b[43m[\u001b[49m\u001b[38;5;124;43m'\u001b[39;49m\u001b[38;5;124;43mcleaned_text\u001b[39;49m\u001b[38;5;124;43m'\u001b[39;49m\u001b[43m]\u001b[49m\u001b[38;5;241m.\u001b[39mapply(\u001b[38;5;28;01mlambda\u001b[39;00m x: strip_all_entities(x))\n\u001b[0;32m      4\u001b[0m     reviews[\u001b[38;5;124m'\u001b[39m\u001b[38;5;124mcleaned_text\u001b[39m\u001b[38;5;124m'\u001b[39m] \u001b[38;5;241m=\u001b[39m reviews[\u001b[38;5;124m'\u001b[39m\u001b[38;5;124mcleaned_text\u001b[39m\u001b[38;5;124m'\u001b[39m]\u001b[38;5;241m.\u001b[39mapply(\u001b[38;5;28;01mlambda\u001b[39;00m x: clean_hashtags(x))\n\u001b[0;32m      5\u001b[0m     reviews[\u001b[38;5;124m'\u001b[39m\u001b[38;5;124mcleaned_text\u001b[39m\u001b[38;5;124m'\u001b[39m] \u001b[38;5;241m=\u001b[39m reviews[\u001b[38;5;124m'\u001b[39m\u001b[38;5;124mcleaned_text\u001b[39m\u001b[38;5;124m'\u001b[39m]\u001b[38;5;241m.\u001b[39mapply(\u001b[38;5;28;01mlambda\u001b[39;00m x: filter_chars(x))\n",
      "File \u001b[1;32mc:\\Users\\zackb\\AppData\\Local\\Programs\\Python\\Python311\\Lib\\site-packages\\pandas\\core\\frame.py:4102\u001b[0m, in \u001b[0;36mDataFrame.__getitem__\u001b[1;34m(self, key)\u001b[0m\n\u001b[0;32m   4100\u001b[0m \u001b[38;5;28;01mif\u001b[39;00m \u001b[38;5;28mself\u001b[39m\u001b[38;5;241m.\u001b[39mcolumns\u001b[38;5;241m.\u001b[39mnlevels \u001b[38;5;241m>\u001b[39m \u001b[38;5;241m1\u001b[39m:\n\u001b[0;32m   4101\u001b[0m     \u001b[38;5;28;01mreturn\u001b[39;00m \u001b[38;5;28mself\u001b[39m\u001b[38;5;241m.\u001b[39m_getitem_multilevel(key)\n\u001b[1;32m-> 4102\u001b[0m indexer \u001b[38;5;241m=\u001b[39m \u001b[38;5;28;43mself\u001b[39;49m\u001b[38;5;241;43m.\u001b[39;49m\u001b[43mcolumns\u001b[49m\u001b[38;5;241;43m.\u001b[39;49m\u001b[43mget_loc\u001b[49m\u001b[43m(\u001b[49m\u001b[43mkey\u001b[49m\u001b[43m)\u001b[49m\n\u001b[0;32m   4103\u001b[0m \u001b[38;5;28;01mif\u001b[39;00m is_integer(indexer):\n\u001b[0;32m   4104\u001b[0m     indexer \u001b[38;5;241m=\u001b[39m [indexer]\n",
      "File \u001b[1;32mc:\\Users\\zackb\\AppData\\Local\\Programs\\Python\\Python311\\Lib\\site-packages\\pandas\\core\\indexes\\base.py:3812\u001b[0m, in \u001b[0;36mIndex.get_loc\u001b[1;34m(self, key)\u001b[0m\n\u001b[0;32m   3807\u001b[0m     \u001b[38;5;28;01mif\u001b[39;00m \u001b[38;5;28misinstance\u001b[39m(casted_key, \u001b[38;5;28mslice\u001b[39m) \u001b[38;5;129;01mor\u001b[39;00m (\n\u001b[0;32m   3808\u001b[0m         \u001b[38;5;28misinstance\u001b[39m(casted_key, abc\u001b[38;5;241m.\u001b[39mIterable)\n\u001b[0;32m   3809\u001b[0m         \u001b[38;5;129;01mand\u001b[39;00m \u001b[38;5;28many\u001b[39m(\u001b[38;5;28misinstance\u001b[39m(x, \u001b[38;5;28mslice\u001b[39m) \u001b[38;5;28;01mfor\u001b[39;00m x \u001b[38;5;129;01min\u001b[39;00m casted_key)\n\u001b[0;32m   3810\u001b[0m     ):\n\u001b[0;32m   3811\u001b[0m         \u001b[38;5;28;01mraise\u001b[39;00m InvalidIndexError(key)\n\u001b[1;32m-> 3812\u001b[0m     \u001b[38;5;28;01mraise\u001b[39;00m \u001b[38;5;167;01mKeyError\u001b[39;00m(key) \u001b[38;5;28;01mfrom\u001b[39;00m \u001b[38;5;21;01merr\u001b[39;00m\n\u001b[0;32m   3813\u001b[0m \u001b[38;5;28;01mexcept\u001b[39;00m \u001b[38;5;167;01mTypeError\u001b[39;00m:\n\u001b[0;32m   3814\u001b[0m     \u001b[38;5;66;03m# If we have a listlike key, _check_indexing_error will raise\u001b[39;00m\n\u001b[0;32m   3815\u001b[0m     \u001b[38;5;66;03m#  InvalidIndexError. Otherwise we fall through and re-raise\u001b[39;00m\n\u001b[0;32m   3816\u001b[0m     \u001b[38;5;66;03m#  the TypeError.\u001b[39;00m\n\u001b[0;32m   3817\u001b[0m     \u001b[38;5;28mself\u001b[39m\u001b[38;5;241m.\u001b[39m_check_indexing_error(key)\n",
      "\u001b[1;31mKeyError\u001b[0m: 'cleaned_text'"
     ]
    }
   ],
   "source": [
    "# Apply preprocessing to merged_reviews\n",
    "merged_reviews = preprocess_reviews(merged_reviews)\n",
    "\n",
    "# Check the result\n",
    "merged_reviews.head()\n"
   ]
  }
 ],
 "metadata": {
  "kaggle": {
   "accelerator": "none",
   "dataSources": [
    {
     "databundleVersionId": 10381221,
     "sourceId": 89697,
     "sourceType": "competition"
    }
   ],
   "dockerImageVersionId": 30804,
   "isGpuEnabled": false,
   "isInternetEnabled": true,
   "language": "python",
   "sourceType": "notebook"
  },
  "kernelspec": {
   "display_name": "Python 3",
   "language": "python",
   "name": "python3"
  },
  "language_info": {
   "codemirror_mode": {
    "name": "ipython",
    "version": 3
   },
   "file_extension": ".py",
   "mimetype": "text/x-python",
   "name": "python",
   "nbconvert_exporter": "python",
   "pygments_lexer": "ipython3",
   "version": "3.11.1"
  }
 },
 "nbformat": 4,
 "nbformat_minor": 4
}
